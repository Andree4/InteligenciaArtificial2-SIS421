{
 "cells": [
  {
   "cell_type": "markdown",
   "metadata": {},
   "source": [
    "# **Laboratorio 1 - SIS420**\n",
    "\n",
    "**MLP con Framework HAIKU**\n",
    "\n",
    "Arancibia Aguilar Daniel Andree\n",
    "\n",
    "Ingeniería en Ciencias de la Computación\n",
    "\n",
    "En este laboratorio usaremos un framework diferente para crear un MLP \n",
    "\n",
    "Usaremos un dataset de 500 imagenes 100 por cada planta\n",
    "\n",
    "Coca\n",
    "\n",
    "Eucalipto\n",
    "\n",
    "Guanabana\n",
    "\n",
    "Lengua de Suegra\n",
    "\n",
    "Manzanilla"
   ]
  },
  {
   "cell_type": "markdown",
   "metadata": {},
   "source": [
    "**Importamos las librerias**"
   ]
  },
  {
   "cell_type": "code",
   "execution_count": 14,
   "metadata": {},
   "outputs": [],
   "source": [
    "import os\n",
    "import numpy as np\n",
    "from sklearn.model_selection import train_test_split\n",
    "from PIL import Image\n",
    "import jax\n",
    "import jax.numpy as jnp\n",
    "import haiku as hk\n",
    "import optax\n",
    "import matplotlib.pyplot as plt\n"
   ]
  },
  {
   "cell_type": "code",
   "execution_count": null,
   "metadata": {},
   "outputs": [],
   "source": [
    "#Definimos los parametros del MLP ademas de reescalar las imagenes a 256x256\n",
    "image_size = (256, 256)\n",
    "num_classes = 5\n",
    "batch_size = 64\n",
    "num_epochs = 20\n",
    "learning_rate = 0.001"
   ]
  },
  {
   "cell_type": "markdown",
   "metadata": {},
   "source": [
    "Cargamos las imagenes para crear el dataset"
   ]
  },
  {
   "cell_type": "code",
   "execution_count": null,
   "metadata": {},
   "outputs": [],
   "source": [
    "# Ruta del dataset\n",
    "image_dir = 'E:/LAB1SIS421/DatasetPlantas1'\n",
    "\n",
    "#Cargar imágenes y etiquetas\n",
    "def load_data(image_dir, image_size):\n",
    "    image_files = []\n",
    "    labels = []\n",
    "    class_names = sorted(os.listdir(image_dir))\n",
    "    for label, class_name in enumerate(class_names):\n",
    "        class_dir = os.path.join(image_dir, class_name)\n",
    "        if os.path.isdir(class_dir):\n",
    "            for img_file in os.listdir(class_dir):\n",
    "                if img_file.endswith(('.jpg', '.jpeg', '.png')):\n",
    "                    img = Image.open(os.path.join(class_dir, img_file)).resize(image_size)\n",
    "                    img = np.array(img) / 255.0  # Normalizar\n",
    "                    image_files.append(img)\n",
    "                    labels.append(label)\n",
    "    return np.array(image_files), np.array(labels)\n",
    "\n",
    "#Dividir en entrenamiento y prueba\n",
    "images, labels = load_data(image_dir, image_size)\n",
    "train_images, test_images, train_labels, test_labels = train_test_split(images, labels, test_size=0.2, random_state=42)"
   ]
  },
  {
   "cell_type": "markdown",
   "metadata": {},
   "source": [
    "Se define una red neuronal con tres capas (512, 256 y 5 clases) utilizando haiku.Sequential."
   ]
  },
  {
   "cell_type": "code",
   "execution_count": null,
   "metadata": {},
   "outputs": [],
   "source": [
    "# Definir el modelo MLP\n",
    "def mlp_fn(x):\n",
    "    mlp = hk.Sequential([\n",
    "        hk.Flatten(),\n",
    "        hk.Linear(512), jax.nn.relu,\n",
    "        hk.Linear(256), jax.nn.relu,\n",
    "        hk.Linear(num_classes),\n",
    "    ])\n",
    "    return mlp(x)"
   ]
  },
  {
   "cell_type": "code",
   "execution_count": null,
   "metadata": {},
   "outputs": [],
   "source": [
    "# Funciones Haiku\n",
    "def forward_fn(x):\n",
    "    mlp = mlp_fn(x)\n",
    "    return mlp\n",
    "#hk.transform convierte la función forward_fn en un objeto que puede ser usado para inicializar el modelo y aplicarle parámetros.\n",
    "model = hk.transform(forward_fn)\n",
    "\n",
    "#Definir la función de pérdida\n",
    "def loss_fn(params, rng, x, y):\n",
    "    logits = model.apply(params, rng, x)\n",
    "    labels_onehot = jax.nn.one_hot(y, num_classes)\n",
    "    loss = optax.softmax_cross_entropy(logits=logits, labels=labels_onehot).mean()\n",
    "    return loss\n",
    "\n",
    "#Definir la función de precisión\n",
    "def accuracy_fn(params, rng, x, y):\n",
    "    logits = model.apply(params, rng, x)\n",
    "    predictions = jnp.argmax(logits, axis=-1)\n",
    "    accuracy = jnp.mean(predictions == y)\n",
    "    return accuracy\n",
    "\n",
    "#Inicializar el modelo y el optimizador \n",
    "#rng es una clave de generación de números aleatorios de JAX. init_rng se usa para inicializar el modelo.\n",
    "rng = jax.random.PRNGKey(42)\n",
    "rng, init_rng = jax.random.split(rng)\n",
    "params = model.init(init_rng, jnp.ones((1, *image_size, 3), jnp.float32))\n",
    "optimizer = optax.adam(learning_rate)\n",
    "opt_state = optimizer.init(params)\n",
    "\n",
    "#Función de entrenamiento\n",
    "@jax.jit\n",
    "def train_step(params, opt_state, rng, x, y):\n",
    "    loss, grads = jax.value_and_grad(loss_fn)(params, rng, x, y)\n",
    "    updates, opt_state = optimizer.update(grads, opt_state)\n",
    "    params = optax.apply_updates(params, updates)\n",
    "    return params, opt_state, loss\n",
    "\n",
    "#Función de evaluación\n",
    "@jax.jit\n",
    "def evaluate(params, rng, x, y):\n",
    "    return accuracy_fn(params, rng, x, y)\n"
   ]
  },
  {
   "cell_type": "markdown",
   "metadata": {},
   "source": [
    "@jax.jit es un decorador en JAX que significa \"Just-In-Time\" compilation. Su propósito principal es optimizar y acelerar la ejecución de funciones al compilar el código Python en un código de máquina más eficiente"
   ]
  },
  {
   "cell_type": "code",
   "execution_count": 9,
   "metadata": {},
   "outputs": [
    {
     "name": "stdout",
     "output_type": "stream",
     "text": [
      "Epoch 1, Loss: 31.3218, Train Accuracy: 0.3650\n",
      "Epoch 2, Loss: 26.0612, Train Accuracy: 0.3375\n",
      "Epoch 3, Loss: 7.3925, Train Accuracy: 0.2825\n",
      "Epoch 4, Loss: 2.4623, Train Accuracy: 0.7350\n",
      "Epoch 5, Loss: 1.3550, Train Accuracy: 0.5425\n",
      "Epoch 6, Loss: 2.2365, Train Accuracy: 0.7450\n",
      "Epoch 7, Loss: 1.9366, Train Accuracy: 0.8250\n",
      "Epoch 8, Loss: 0.2373, Train Accuracy: 0.8125\n",
      "Epoch 9, Loss: 0.7222, Train Accuracy: 0.9075\n",
      "Epoch 10, Loss: 0.6172, Train Accuracy: 0.7675\n",
      "Epoch 11, Loss: 0.2612, Train Accuracy: 0.9000\n",
      "Epoch 12, Loss: 0.1750, Train Accuracy: 0.9525\n",
      "Epoch 13, Loss: 0.1047, Train Accuracy: 0.8650\n",
      "Epoch 14, Loss: 0.2949, Train Accuracy: 0.9250\n",
      "Epoch 15, Loss: 0.1153, Train Accuracy: 0.8375\n",
      "Epoch 16, Loss: 0.5550, Train Accuracy: 0.8200\n",
      "Epoch 17, Loss: 0.5470, Train Accuracy: 0.8900\n",
      "Epoch 18, Loss: 0.0921, Train Accuracy: 0.8950\n",
      "Epoch 19, Loss: 0.0034, Train Accuracy: 0.9675\n",
      "Epoch 20, Loss: 0.1758, Train Accuracy: 0.9950\n",
      "Entrenamiento completo\n",
      "Test Accuracy: 86.00 %\n"
     ]
    },
    {
     "data": {
      "image/png": "[encoded data removed]",
      "text/plain": [
       "<Figure size 640x480 with 1 Axes>"
      ]
     },
     "metadata": {},
     "output_type": "display_data"
    }
   ],
   "source": [
    "# Entrenamiento del modelo\n",
    "train_losses = []\n",
    "for epoch in range(num_epochs):\n",
    "    indices = np.random.permutation(len(train_images))\n",
    "    train_images = train_images[indices]\n",
    "    train_labels = train_labels[indices]\n",
    "    \n",
    "    for i in range(0, len(train_images), batch_size):\n",
    "        x_batch = jnp.array(train_images[i:i + batch_size])\n",
    "        y_batch = jnp.array(train_labels[i:i + batch_size])\n",
    "        rng, step_rng = jax.random.split(rng)\n",
    "        params, opt_state, loss = train_step(params, opt_state, step_rng, x_batch, y_batch)\n",
    "    \n",
    "    train_loss = loss.item()\n",
    "    train_losses.append(train_loss)\n",
    "    rng, eval_rng = jax.random.split(rng)\n",
    "    train_accuracy = evaluate(params, eval_rng, jnp.array(train_images), jnp.array(train_labels)).item()\n",
    "    print(f'Epoch {epoch + 1}, Loss: {train_loss:.4f}, Train Accuracy: {train_accuracy:.4f}')\n",
    "\n",
    "print('Entrenamiento completo')\n",
    "\n",
    "# Evaluación del modelo en el conjunto de prueba\n",
    "rng, test_rng = jax.random.split(rng)\n",
    "test_accuracy = evaluate(params, test_rng, jnp.array(test_images), jnp.array(test_labels)).item()\n",
    "print(f'Test Accuracy: {test_accuracy * 100:.2f} %')\n",
    "\n",
    "# Graficar la pérdida de entrenamiento\n",
    "plt.plot(train_losses)\n",
    "plt.xlabel('Epoch')\n",
    "plt.ylabel('Loss')\n",
    "plt.title('Training Loss')\n",
    "plt.show()\n"
   ]
  }
 ],
 "metadata": {
  "kernelspec": {
   "display_name": "env",
   "language": "python",
   "name": "python3"
  },
  "language_info": {
   "codemirror_mode": {
    "name": "ipython",
    "version": 3
   },
   "file_extension": ".py",
   "mimetype": "text/x-python",
   "name": "python",
   "nbconvert_exporter": "python",
   "pygments_lexer": "ipython3",
   "version": "3.11.9"
  }
 },
 "nbformat": 4,
 "nbformat_minor": 2
}
